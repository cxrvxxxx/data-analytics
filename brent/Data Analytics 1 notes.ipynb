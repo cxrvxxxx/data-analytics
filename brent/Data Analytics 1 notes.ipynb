{
 "cells": [
  {
   "cell_type": "markdown",
   "id": "161ec055-9dbf-44f0-9507-5b786d92cfe0",
   "metadata": {},
   "source": [
    "<h1>Data Analytics 1</h1>"
   ]
  },
  {
   "cell_type": "markdown",
   "id": "158dc88a-d8d1-409a-8eed-b7c1b8dc404a",
   "metadata": {},
   "source": [
    "<h2>Class notes</h2>\n",
    "<hr>"
   ]
  },
  {
   "cell_type": "markdown",
   "id": "27481bbe-60c5-4cd6-ba9b-4a1c71f5ee32",
   "metadata": {},
   "source": [
    "<h3>Using <b>pandas</b> library to load Data Frames into python</h3>"
   ]
  },
  {
   "cell_type": "code",
   "execution_count": 50,
   "id": "c77f93ce-afee-4b7c-bfc4-b077f40744db",
   "metadata": {},
   "outputs": [
    {
     "data": {
      "text/html": [
       "<div>\n",
       "<style scoped>\n",
       "    .dataframe tbody tr th:only-of-type {\n",
       "        vertical-align: middle;\n",
       "    }\n",
       "\n",
       "    .dataframe tbody tr th {\n",
       "        vertical-align: top;\n",
       "    }\n",
       "\n",
       "    .dataframe thead th {\n",
       "        text-align: right;\n",
       "    }\n",
       "</style>\n",
       "<table border=\"1\" class=\"dataframe\">\n",
       "  <thead>\n",
       "    <tr style=\"text-align: right;\">\n",
       "      <th></th>\n",
       "      <th>a</th>\n",
       "      <th>b</th>\n",
       "      <th>c</th>\n",
       "      <th>d</th>\n",
       "      <th>message</th>\n",
       "    </tr>\n",
       "  </thead>\n",
       "  <tbody>\n",
       "    <tr>\n",
       "      <th>0</th>\n",
       "      <td>1</td>\n",
       "      <td>2</td>\n",
       "      <td>NaN</td>\n",
       "      <td>4</td>\n",
       "      <td>hello</td>\n",
       "    </tr>\n",
       "    <tr>\n",
       "      <th>1</th>\n",
       "      <td>5</td>\n",
       "      <td>6</td>\n",
       "      <td>7.0</td>\n",
       "      <td>8</td>\n",
       "      <td>world</td>\n",
       "    </tr>\n",
       "    <tr>\n",
       "      <th>2</th>\n",
       "      <td>9</td>\n",
       "      <td>10</td>\n",
       "      <td>11.0</td>\n",
       "      <td>12</td>\n",
       "      <td>foo</td>\n",
       "    </tr>\n",
       "    <tr>\n",
       "      <th>3</th>\n",
       "      <td>5</td>\n",
       "      <td>6</td>\n",
       "      <td>7.0</td>\n",
       "      <td>8</td>\n",
       "      <td>world</td>\n",
       "    </tr>\n",
       "  </tbody>\n",
       "</table>\n",
       "</div>"
      ],
      "text/plain": [
       "   a   b     c   d message\n",
       "0  1   2   NaN   4   hello\n",
       "1  5   6   7.0   8   world\n",
       "2  9  10  11.0  12     foo\n",
       "3  5   6   7.0   8   world"
      ]
     },
     "execution_count": 50,
     "metadata": {},
     "output_type": "execute_result"
    }
   ],
   "source": [
    "import pandas as pd\n",
    "\n",
    "# Exapmple of loading a .csv file into Python\n",
    "# For other types of files, refer to https://pandas.pydata.org/docs/user_guide/io.html\n",
    "df = pd.read_csv('ex1.csv')\n",
    "\n",
    "# Calling the dataframe prints the contents\n",
    "df"
   ]
  },
  {
   "cell_type": "markdown",
   "id": "7707a6ae-f06c-4eca-8ef8-ffeef1391f77",
   "metadata": {},
   "source": [
    "<h3>Show Data Frame statistics</h3>"
   ]
  },
  {
   "cell_type": "code",
   "execution_count": 51,
   "id": "98900543-a522-423d-a50e-43cd34898103",
   "metadata": {},
   "outputs": [
    {
     "data": {
      "text/html": [
       "<div>\n",
       "<style scoped>\n",
       "    .dataframe tbody tr th:only-of-type {\n",
       "        vertical-align: middle;\n",
       "    }\n",
       "\n",
       "    .dataframe tbody tr th {\n",
       "        vertical-align: top;\n",
       "    }\n",
       "\n",
       "    .dataframe thead th {\n",
       "        text-align: right;\n",
       "    }\n",
       "</style>\n",
       "<table border=\"1\" class=\"dataframe\">\n",
       "  <thead>\n",
       "    <tr style=\"text-align: right;\">\n",
       "      <th></th>\n",
       "      <th>a</th>\n",
       "      <th>b</th>\n",
       "      <th>c</th>\n",
       "      <th>d</th>\n",
       "    </tr>\n",
       "  </thead>\n",
       "  <tbody>\n",
       "    <tr>\n",
       "      <th>count</th>\n",
       "      <td>4.000000</td>\n",
       "      <td>4.000000</td>\n",
       "      <td>3.000000</td>\n",
       "      <td>4.000000</td>\n",
       "    </tr>\n",
       "    <tr>\n",
       "      <th>mean</th>\n",
       "      <td>5.000000</td>\n",
       "      <td>6.000000</td>\n",
       "      <td>8.333333</td>\n",
       "      <td>8.000000</td>\n",
       "    </tr>\n",
       "    <tr>\n",
       "      <th>std</th>\n",
       "      <td>3.265986</td>\n",
       "      <td>3.265986</td>\n",
       "      <td>2.309401</td>\n",
       "      <td>3.265986</td>\n",
       "    </tr>\n",
       "    <tr>\n",
       "      <th>min</th>\n",
       "      <td>1.000000</td>\n",
       "      <td>2.000000</td>\n",
       "      <td>7.000000</td>\n",
       "      <td>4.000000</td>\n",
       "    </tr>\n",
       "    <tr>\n",
       "      <th>25%</th>\n",
       "      <td>4.000000</td>\n",
       "      <td>5.000000</td>\n",
       "      <td>7.000000</td>\n",
       "      <td>7.000000</td>\n",
       "    </tr>\n",
       "    <tr>\n",
       "      <th>50%</th>\n",
       "      <td>5.000000</td>\n",
       "      <td>6.000000</td>\n",
       "      <td>7.000000</td>\n",
       "      <td>8.000000</td>\n",
       "    </tr>\n",
       "    <tr>\n",
       "      <th>75%</th>\n",
       "      <td>6.000000</td>\n",
       "      <td>7.000000</td>\n",
       "      <td>9.000000</td>\n",
       "      <td>9.000000</td>\n",
       "    </tr>\n",
       "    <tr>\n",
       "      <th>max</th>\n",
       "      <td>9.000000</td>\n",
       "      <td>10.000000</td>\n",
       "      <td>11.000000</td>\n",
       "      <td>12.000000</td>\n",
       "    </tr>\n",
       "  </tbody>\n",
       "</table>\n",
       "</div>"
      ],
      "text/plain": [
       "              a          b          c          d\n",
       "count  4.000000   4.000000   3.000000   4.000000\n",
       "mean   5.000000   6.000000   8.333333   8.000000\n",
       "std    3.265986   3.265986   2.309401   3.265986\n",
       "min    1.000000   2.000000   7.000000   4.000000\n",
       "25%    4.000000   5.000000   7.000000   7.000000\n",
       "50%    5.000000   6.000000   7.000000   8.000000\n",
       "75%    6.000000   7.000000   9.000000   9.000000\n",
       "max    9.000000  10.000000  11.000000  12.000000"
      ]
     },
     "execution_count": 51,
     "metadata": {},
     "output_type": "execute_result"
    }
   ],
   "source": [
    "df.describe()"
   ]
  },
  {
   "cell_type": "markdown",
   "id": "b8d1fcd0-7b00-440c-a115-f3d4693b4971",
   "metadata": {},
   "source": [
    "<h3>Processing a Data Frame - checking for NaN or NULL values</h3>"
   ]
  },
  {
   "cell_type": "code",
   "execution_count": 22,
   "id": "5f5fb60a-81b5-43bd-97f6-c8096aff1d33",
   "metadata": {},
   "outputs": [
    {
     "data": {
      "text/html": [
       "<div>\n",
       "<style scoped>\n",
       "    .dataframe tbody tr th:only-of-type {\n",
       "        vertical-align: middle;\n",
       "    }\n",
       "\n",
       "    .dataframe tbody tr th {\n",
       "        vertical-align: top;\n",
       "    }\n",
       "\n",
       "    .dataframe thead th {\n",
       "        text-align: right;\n",
       "    }\n",
       "</style>\n",
       "<table border=\"1\" class=\"dataframe\">\n",
       "  <thead>\n",
       "    <tr style=\"text-align: right;\">\n",
       "      <th></th>\n",
       "      <th>a</th>\n",
       "      <th>b</th>\n",
       "      <th>c</th>\n",
       "      <th>d</th>\n",
       "      <th>message</th>\n",
       "    </tr>\n",
       "  </thead>\n",
       "  <tbody>\n",
       "    <tr>\n",
       "      <th>0</th>\n",
       "      <td>False</td>\n",
       "      <td>False</td>\n",
       "      <td>True</td>\n",
       "      <td>False</td>\n",
       "      <td>False</td>\n",
       "    </tr>\n",
       "    <tr>\n",
       "      <th>1</th>\n",
       "      <td>False</td>\n",
       "      <td>False</td>\n",
       "      <td>False</td>\n",
       "      <td>False</td>\n",
       "      <td>False</td>\n",
       "    </tr>\n",
       "    <tr>\n",
       "      <th>2</th>\n",
       "      <td>False</td>\n",
       "      <td>False</td>\n",
       "      <td>False</td>\n",
       "      <td>False</td>\n",
       "      <td>False</td>\n",
       "    </tr>\n",
       "    <tr>\n",
       "      <th>3</th>\n",
       "      <td>False</td>\n",
       "      <td>False</td>\n",
       "      <td>False</td>\n",
       "      <td>False</td>\n",
       "      <td>False</td>\n",
       "    </tr>\n",
       "  </tbody>\n",
       "</table>\n",
       "</div>"
      ],
      "text/plain": [
       "       a      b      c      d  message\n",
       "0  False  False   True  False    False\n",
       "1  False  False  False  False    False\n",
       "2  False  False  False  False    False\n",
       "3  False  False  False  False    False"
      ]
     },
     "execution_count": 22,
     "metadata": {},
     "output_type": "execute_result"
    }
   ],
   "source": [
    "# To check for NaN (Not a Number) cells\n",
    "df.isna()"
   ]
  },
  {
   "cell_type": "code",
   "execution_count": 23,
   "id": "f286eabc-4476-4943-b741-b6940198677e",
   "metadata": {},
   "outputs": [
    {
     "data": {
      "text/html": [
       "<div>\n",
       "<style scoped>\n",
       "    .dataframe tbody tr th:only-of-type {\n",
       "        vertical-align: middle;\n",
       "    }\n",
       "\n",
       "    .dataframe tbody tr th {\n",
       "        vertical-align: top;\n",
       "    }\n",
       "\n",
       "    .dataframe thead th {\n",
       "        text-align: right;\n",
       "    }\n",
       "</style>\n",
       "<table border=\"1\" class=\"dataframe\">\n",
       "  <thead>\n",
       "    <tr style=\"text-align: right;\">\n",
       "      <th></th>\n",
       "      <th>a</th>\n",
       "      <th>b</th>\n",
       "      <th>c</th>\n",
       "      <th>d</th>\n",
       "      <th>message</th>\n",
       "    </tr>\n",
       "  </thead>\n",
       "  <tbody>\n",
       "    <tr>\n",
       "      <th>0</th>\n",
       "      <td>False</td>\n",
       "      <td>False</td>\n",
       "      <td>True</td>\n",
       "      <td>False</td>\n",
       "      <td>False</td>\n",
       "    </tr>\n",
       "    <tr>\n",
       "      <th>1</th>\n",
       "      <td>False</td>\n",
       "      <td>False</td>\n",
       "      <td>False</td>\n",
       "      <td>False</td>\n",
       "      <td>False</td>\n",
       "    </tr>\n",
       "    <tr>\n",
       "      <th>2</th>\n",
       "      <td>False</td>\n",
       "      <td>False</td>\n",
       "      <td>False</td>\n",
       "      <td>False</td>\n",
       "      <td>False</td>\n",
       "    </tr>\n",
       "    <tr>\n",
       "      <th>3</th>\n",
       "      <td>False</td>\n",
       "      <td>False</td>\n",
       "      <td>False</td>\n",
       "      <td>False</td>\n",
       "      <td>False</td>\n",
       "    </tr>\n",
       "  </tbody>\n",
       "</table>\n",
       "</div>"
      ],
      "text/plain": [
       "       a      b      c      d  message\n",
       "0  False  False   True  False    False\n",
       "1  False  False  False  False    False\n",
       "2  False  False  False  False    False\n",
       "3  False  False  False  False    False"
      ]
     },
     "execution_count": 23,
     "metadata": {},
     "output_type": "execute_result"
    }
   ],
   "source": [
    "# To check for null cells\n",
    "df.isnull()"
   ]
  },
  {
   "cell_type": "markdown",
   "id": "a2cedfd6-b130-4811-9d12-e60e9ecc2091",
   "metadata": {},
   "source": [
    "<h3>Processing a Data Frame - removing duplicate rows</h3>"
   ]
  },
  {
   "cell_type": "code",
   "execution_count": 30,
   "id": "e4c87545-709f-43a7-a44e-2c28ad35255d",
   "metadata": {},
   "outputs": [
    {
     "data": {
      "text/html": [
       "<div>\n",
       "<style scoped>\n",
       "    .dataframe tbody tr th:only-of-type {\n",
       "        vertical-align: middle;\n",
       "    }\n",
       "\n",
       "    .dataframe tbody tr th {\n",
       "        vertical-align: top;\n",
       "    }\n",
       "\n",
       "    .dataframe thead th {\n",
       "        text-align: right;\n",
       "    }\n",
       "</style>\n",
       "<table border=\"1\" class=\"dataframe\">\n",
       "  <thead>\n",
       "    <tr style=\"text-align: right;\">\n",
       "      <th></th>\n",
       "      <th>a</th>\n",
       "      <th>b</th>\n",
       "      <th>c</th>\n",
       "      <th>d</th>\n",
       "      <th>message</th>\n",
       "    </tr>\n",
       "  </thead>\n",
       "  <tbody>\n",
       "    <tr>\n",
       "      <th>0</th>\n",
       "      <td>1</td>\n",
       "      <td>2</td>\n",
       "      <td>NaN</td>\n",
       "      <td>4</td>\n",
       "      <td>hello</td>\n",
       "    </tr>\n",
       "    <tr>\n",
       "      <th>1</th>\n",
       "      <td>5</td>\n",
       "      <td>6</td>\n",
       "      <td>7.0</td>\n",
       "      <td>8</td>\n",
       "      <td>world</td>\n",
       "    </tr>\n",
       "    <tr>\n",
       "      <th>2</th>\n",
       "      <td>9</td>\n",
       "      <td>10</td>\n",
       "      <td>11.0</td>\n",
       "      <td>12</td>\n",
       "      <td>foo</td>\n",
       "    </tr>\n",
       "  </tbody>\n",
       "</table>\n",
       "</div>"
      ],
      "text/plain": [
       "   a   b     c   d message\n",
       "0  1   2   NaN   4   hello\n",
       "1  5   6   7.0   8   world\n",
       "2  9  10  11.0  12     foo"
      ]
     },
     "execution_count": 30,
     "metadata": {},
     "output_type": "execute_result"
    }
   ],
   "source": [
    "# Specify the list of columns as constraints to remove duplicates\n",
    "df = df.drop_duplicates(['a', 'message'])\n",
    "\n",
    "# Print the Data Frame\n",
    "df"
   ]
  },
  {
   "cell_type": "markdown",
   "id": "401bdbcd-3bad-4f2b-9530-8e1c8d7dca9f",
   "metadata": {},
   "source": [
    "<h3>Using numpy for arithmetic functions</h3>"
   ]
  },
  {
   "cell_type": "code",
   "execution_count": 32,
   "id": "2ededb85-3fd5-40fc-be9a-b16219001c77",
   "metadata": {},
   "outputs": [],
   "source": [
    "import numpy as np"
   ]
  },
  {
   "cell_type": "markdown",
   "id": "45a1d7bf-4aa6-4139-bf16-889534e0fa37",
   "metadata": {},
   "source": [
    "<h3>Processing a Data Frame - replacing NaN/NULL values</h3>"
   ]
  },
  {
   "cell_type": "code",
   "execution_count": 37,
   "id": "70c2ec92-3bc9-4281-aa5c-17d980d0d4aa",
   "metadata": {},
   "outputs": [
    {
     "data": {
      "text/html": [
       "<div>\n",
       "<style scoped>\n",
       "    .dataframe tbody tr th:only-of-type {\n",
       "        vertical-align: middle;\n",
       "    }\n",
       "\n",
       "    .dataframe tbody tr th {\n",
       "        vertical-align: top;\n",
       "    }\n",
       "\n",
       "    .dataframe thead th {\n",
       "        text-align: right;\n",
       "    }\n",
       "</style>\n",
       "<table border=\"1\" class=\"dataframe\">\n",
       "  <thead>\n",
       "    <tr style=\"text-align: right;\">\n",
       "      <th></th>\n",
       "      <th>a</th>\n",
       "      <th>b</th>\n",
       "      <th>c</th>\n",
       "      <th>d</th>\n",
       "      <th>message</th>\n",
       "    </tr>\n",
       "  </thead>\n",
       "  <tbody>\n",
       "    <tr>\n",
       "      <th>0</th>\n",
       "      <td>1</td>\n",
       "      <td>2</td>\n",
       "      <td>9.0</td>\n",
       "      <td>4</td>\n",
       "      <td>hello</td>\n",
       "    </tr>\n",
       "    <tr>\n",
       "      <th>1</th>\n",
       "      <td>5</td>\n",
       "      <td>6</td>\n",
       "      <td>7.0</td>\n",
       "      <td>8</td>\n",
       "      <td>world</td>\n",
       "    </tr>\n",
       "    <tr>\n",
       "      <th>2</th>\n",
       "      <td>9</td>\n",
       "      <td>10</td>\n",
       "      <td>11.0</td>\n",
       "      <td>12</td>\n",
       "      <td>foo</td>\n",
       "    </tr>\n",
       "  </tbody>\n",
       "</table>\n",
       "</div>"
      ],
      "text/plain": [
       "   a   b     c   d message\n",
       "0  1   2   9.0   4   hello\n",
       "1  5   6   7.0   8   world\n",
       "2  9  10  11.0  12     foo"
      ]
     },
     "execution_count": 37,
     "metadata": {},
     "output_type": "execute_result"
    }
   ],
   "source": [
    "# Use slicing to access specific columns of a Data Frame\n",
    "col = df['c']\n",
    "\n",
    "# Either remove the entire row or replace the NaN/NYULL cell data with\n",
    "# the row or column average\n",
    "mean = np.mean(col)\n",
    "\n",
    "# Replace NaN/NULL cells\n",
    "col = col.fillna(mean)\n",
    "\n",
    "# Merge modified subset back to the Data Frame\n",
    "df['c'] = col\n",
    "\n",
    "# Print the Data Frame\n",
    "df"
   ]
  },
  {
   "cell_type": "markdown",
   "id": "16626d8f-f06b-4bab-9c7e-e187cc5440cb",
   "metadata": {},
   "source": [
    "<h3>Using matplotlib to display graphs and charts</h3>"
   ]
  },
  {
   "cell_type": "code",
   "execution_count": 46,
   "id": "862c1512-34ba-483a-a586-ded10a1b7cd1",
   "metadata": {},
   "outputs": [],
   "source": [
    "import matplotlib.pyplot as plt"
   ]
  },
  {
   "cell_type": "markdown",
   "id": "1e36e902-2e8b-4755-8177-95296eb04adf",
   "metadata": {},
   "source": [
    "<h3>Creating a Line Graph</h3>"
   ]
  },
  {
   "cell_type": "code",
   "execution_count": 49,
   "id": "a1978e4f-be43-41c2-b5f0-a078979380b2",
   "metadata": {},
   "outputs": [
    {
     "data": {
      "image/png": "[encoded data removed]",
      "text/plain": [
       "<Figure size 1000x700 with 1 Axes>"
      ]
     },
     "metadata": {},
     "output_type": "display_data"
    }
   ],
   "source": [
    "# Load the Data Frame\n",
    "df = pd.read_csv('ex2.csv')\n",
    "\n",
    "# Selecting the data to be displayed\n",
    "x = df['x']\n",
    "y = df['y']\n",
    "\n",
    "# Creating a figure object\n",
    "fig = plt.figure(figsize=[10,7])\n",
    "\n",
    "# Creating the pie chart\n",
    "plt.plot(x, y)\n",
    "\n",
    "# Setting a title\n",
    "plt.title('Line Graph')\n",
    "\n",
    "# Show the chart\n",
    "plt.show()"
   ]
  },
  {
   "cell_type": "markdown",
   "id": "3c0cbcc2-71a8-4b92-9e93-dd2d4b43f4d3",
   "metadata": {},
   "source": [
    "<h3>Creating a Pie Chart</h3>"
   ]
  },
  {
   "cell_type": "code",
   "execution_count": 42,
   "id": "759b384d-c38d-4fc3-949d-58ed9b4c84ab",
   "metadata": {},
   "outputs": [
    {
     "data": {
      "image/png": "[encoded data removed]",
      "text/plain": [
       "<Figure size 1000x700 with 1 Axes>"
      ]
     },
     "metadata": {},
     "output_type": "display_data"
    }
   ],
   "source": [
    "# Load the Data Frame\n",
    "df = pd.read_csv('ex3.csv')\n",
    "\n",
    "# Selecting the data to be displayed\n",
    "labels = df['cars']\n",
    "data = df['data']\n",
    "\n",
    "# Creating a figure object\n",
    "fig = plt.figure(figsize=[10,7])\n",
    "\n",
    "# Creating the pie chart\n",
    "plt.pie(data, labels=labels)\n",
    "\n",
    "# Setting a title\n",
    "plt.title('Pie Chart')\n",
    "\n",
    "# Show the chart\n",
    "plt.show()"
   ]
  },
  {
   "cell_type": "markdown",
   "id": "24e645df-13af-4ff2-82ba-0538a26efaa6",
   "metadata": {},
   "source": [
    "<h3>Creating a Bar Graph</h3>"
   ]
  },
  {
   "cell_type": "code",
   "execution_count": 45,
   "id": "0bd00a6d-29a2-4beb-893d-e27c089f2199",
   "metadata": {},
   "outputs": [
    {
     "data": {
      "image/png": "[encoded data removed]",
      "text/plain": [
       "<Figure size 1000x700 with 1 Axes>"
      ]
     },
     "metadata": {},
     "output_type": "display_data"
    }
   ],
   "source": [
    "# Load the Data Frame\n",
    "df = pd.read_csv('ex3.csv')\n",
    "\n",
    "# Selecting the data to be displayed\n",
    "labels = df['cars']\n",
    "data = df['data']\n",
    "\n",
    "# Creating a figure object\n",
    "fig = plt.figure(figsize=[10,7])\n",
    "\n",
    "# Creating the pie chart\n",
    "plt.bar(labels, data)\n",
    "\n",
    "# Setting a title\n",
    "plt.title('Pie Chart')\n",
    "\n",
    "# Show the chart\n",
    "plt.show()"
   ]
  },
  {
   "cell_type": "code",
   "execution_count": null,
   "id": "ed24be91-b17c-468e-a499-9cd619075ec2",
   "metadata": {},
   "outputs": [],
   "source": []
  }
 ],
 "metadata": {
  "kernelspec": {
   "display_name": "Python 3 (ipykernel)",
   "language": "python",
   "name": "python3"
  },
  "language_info": {
   "codemirror_mode": {
    "name": "ipython",
    "version": 3
   },
   "file_extension": ".py",
   "mimetype": "text/x-python",
   "name": "python",
   "nbconvert_exporter": "python",
   "pygments_lexer": "ipython3",
   "version": "3.11.3"
  }
 },
 "nbformat": 4,
 "nbformat_minor": 5
}
